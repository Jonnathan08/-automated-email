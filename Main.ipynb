{
 "cells": [
  {
   "cell_type": "code",
   "execution_count": null,
   "id": "81affd53-7e07-4a0c-a397-3aa9102dd1dc",
   "metadata": {},
   "outputs": [],
   "source": [
    "#!pip install sharepy\n",
    "import sharepy\n",
    "import os\n",
    "#System variables\n",
    "MAIL_NUB = os.environ.get('MAIL_NUB')\n",
    "PASS_MAIL_NUB = os.environ.get('PASS_MAIL_NUB')\n",
    "\n",
    "s = sharepy.connect(\"nubsieteocho.sharepoint.com\", MAIL_NUB, PASS_MAIL_NUB)"
   ]
  },
  {
   "cell_type": "code",
   "execution_count": null,
   "id": "0ebad123-9ae2-4371-8431-da1f0386ac5f",
   "metadata": {},
   "outputs": [],
   "source": [
    "import smtplib\n",
    "import pandas as pd\n",
    "from datetime import datetime, timedelta\n",
    "from pandas import Timestamp\n",
    "import numpy as np\n",
    "import sharepy\n",
    "import create_image as img\n",
    "\n",
    "from email import encoders\n",
    "from os.path import basename\n",
    "from email.mime.text import MIMEText\n",
    "from email.mime.multipart import MIMEMultipart\n",
    "from email.mime.base import MIMEBase"
   ]
  },
  {
   "cell_type": "code",
   "execution_count": null,
   "id": "caa515c6-6027-4866-b4cd-4aba2e696eda",
   "metadata": {},
   "outputs": [],
   "source": [
    "#Importing data from CA tracker\n",
    "r = s.getfile(\"https://nubsieteocho.sharepoint.com/sites/ODAOPS/Shared%20Documents/General/CA%20Tracker%20-%20FY22Q1.xlsx\"\\\n",
    "              , filename = 'ca_tracker.xlsx')\n",
    "df = pd.read_excel(\"ca_tracker.xlsx\", usecols=['Name' , 'Start Date' , 'Finish Date', 'Out of Shift', 'Future Dates', 'Effort Calculation', 'Blank values'], sheet_name='CA Tracker')\n",
    "df.dropna(subset = ['Start Date'], inplace = True)\n",
    "df.dropna(subset = ['Name'], inplace = True)"
   ]
  },
  {
   "cell_type": "code",
   "execution_count": null,
   "id": "10769c00-4e1b-419e-bedc-5781aa3f03be",
   "metadata": {},
   "outputs": [],
   "source": [
    "#import data with the users mails\n",
    "p = s.getfile(\"https://nubsieteocho.sharepoint.com/sites/ODAOPS/Shared%20Documents/General/users_mails.xlsx\"\\\n",
    "              , filename = 'users_mails.xlsx')\n",
    "user_mails = pd.read_excel ('users_mails.xlsx')\n",
    "print('done')"
   ]
  },
  {
   "cell_type": "code",
   "execution_count": null,
   "id": "d009d6bd",
   "metadata": {},
   "outputs": [],
   "source": [
    "#SMTP Mail variables\n",
    "\n",
    "myMail = 'testNub78@outlook.com'\n",
    "password = 'EasyP4ssword78'\n",
    "subjectEmail = 'CA Tracker Reminder'\n",
    "\n",
    "msg1 = \"\"\"<h1>Hola, %s</h1>\n",
    "        <h3>A continuaci&oacute;n un resumen de tu actividad en CA_Tracker</h3>\n",
    "        <p><img src=\"imagedraw.png\" /></p>\n",
    "        <h3>Por favor revisa el archivo adjunto para encontrar los errores</h3>\n",
    "        <h3>Asegurate de que tus registros esten corregidos y al d&iacute;a</h3>\"\"\"\n",
    "        \n",
    "msg2 = \"\"\"<h1>Hola, %s</h1>\n",
    "        <h3>A continuaci&oacute;n un resumen de tu actividad en CA_Tracker</h3>\n",
    "        <p><img src=\"imagedraw.png\" /></p>\n",
    "        <h3>Por favor revisa el archivo adjunto para encontrar los errores</h3>\n",
    "        <h3>Asegurate de corregir las l&iacute;neas con errores</h3>\"\"\"\n",
    "        \n",
    "msg3 = \"\"\"<h1>Hola, %s</h1>\n",
    "        <h3>A continuaci&oacute;n un resumen de tu actividad en CA_Tracker</h3>\n",
    "        <p><img src=\"imagedraw.png\" /></p>\n",
    "        <h3>Asegurate de mantener tus registros al d&iacute;a</h3>\"\"\"\n",
    "        \n",
    "msg4 = \"\"\"<h1>Hola, %s</h1>\n",
    "        <h3>A continuaci&oacute;n un resumen de tu actividad en CA_Tracker</h3>\n",
    "        <p><img src=\"imagedraw.png\" /></p>\n",
    "        <h3>¡Gracias por mantener tu información al día!</h3>\"\"\""
   ]
  },
  {
   "cell_type": "code",
   "execution_count": null,
   "id": "3aa6f3b4-6c98-4e4c-bdf8-c24ea1704004",
   "metadata": {},
   "outputs": [],
   "source": [
    "#Get the total of names in the CA tracker file and elimnate duplicates\n",
    "\n",
    "total_names = df[\"Name\"].drop_duplicates().to_frame()\n",
    "#total_names.to_excel(\"total_names.xlsx\")\n",
    "print('done')"
   ]
  },
  {
   "cell_type": "code",
   "execution_count": null,
   "id": "0d8e568f-da96-4466-aee2-82af3c7ee438",
   "metadata": {
    "tags": []
   },
   "outputs": [],
   "source": [
    "#Formating Start Date column in CA tracker\n",
    "df['Start Date']=df['Start Date'].apply(lambda x: datetime.strptime(str(x) , '%Y-%m-%d %H:%M:%S')  if type(x) == datetime or type(x) == Timestamp else datetime.strptime('1900-01-01 00:00:00' , '%Y-%m-%d %H:%M:%S'))\n",
    "print('done')"
   ]
  },
  {
   "cell_type": "code",
   "execution_count": null,
   "id": "38109d60-6b5c-4f9f-add4-edb0bf9af72a",
   "metadata": {},
   "outputs": [],
   "source": [
    "#Getting the variables of yerterday\n",
    "\n",
    "#la respuesta se recibe como un entero en donde 0 es Lunes y 6 es Domingo (week_day)\n",
    "week_day = datetime.today().weekday()\n",
    "\n",
    "if week_day == 0:\n",
    "    yesterday = datetime.today() - timedelta(days=3)\n",
    "else:\n",
    "    yesterday = datetime.today() - timedelta(days=1)\n",
    "    \n",
    "print(yesterday.day)    \n",
    "today = datetime.today()\n",
    "date = str(today.year)+'-'+str(today.month)+'-'+str(today.day)"
   ]
  },
  {
   "cell_type": "code",
   "execution_count": null,
   "id": "410859fc-0b05-4520-ac0d-18901c2af0eb",
   "metadata": {},
   "outputs": [],
   "source": [
    "#filter the users that have registers yesterday\n",
    "\n",
    "no_mail = pd.DataFrame()\n",
    "\n",
    "for i, r in df.iterrows():\n",
    "    if (r[1].year == yesterday.year) and (r[1].month == yesterday.month) and (r[1].day == yesterday.day):\n",
    "        no_mail = no_mail.append(r) \n",
    "print('done')"
   ]
  },
  {
   "cell_type": "code",
   "execution_count": null,
   "id": "eb3c6b10-874a-4333-9fd3-73e9a4920bfd",
   "metadata": {},
   "outputs": [],
   "source": [
    "#Filtring names of the users (with register yesterday) and eliminating duplicates\n",
    "no_mail_names = no_mail[\"Name\"].drop_duplicates().to_frame()\n",
    "\n",
    "#convining tables to get the names of the users that do not have registers yesterday\n",
    "s_mail_names = pd.merge(total_names, no_mail_names, on=['Name', 'Name'], how='outer', indicator=True).query('_merge==\"left_only\"')\n",
    "sent_mail_names = s_mail_names['Name'].to_frame()\n",
    "\n",
    "#adding new column 'not updated'\n",
    "sent_mail_names['Not updated'] = 1\n",
    "print('done')"
   ]
  },
  {
   "cell_type": "code",
   "execution_count": null,
   "id": "ab3d6d4b",
   "metadata": {},
   "outputs": [],
   "source": [
    "##Last date register"
   ]
  },
  {
   "cell_type": "code",
   "execution_count": null,
   "id": "db4f6a06",
   "metadata": {},
   "outputs": [],
   "source": [
    "#Getting the last date register in the ca tracker per user\n",
    "last_reg = df[['Name','Start Date']].groupby('Name').max()"
   ]
  },
  {
   "cell_type": "code",
   "execution_count": null,
   "id": "dcfea0f6",
   "metadata": {},
   "outputs": [],
   "source": [
    "##Errors"
   ]
  },
  {
   "cell_type": "code",
   "execution_count": null,
   "id": "f29eeb9e",
   "metadata": {},
   "outputs": [],
   "source": [
    "#Search for user with error in their registres\n",
    "users_errors = pd.DataFrame()\n",
    "\n",
    "for i, s in df.iterrows():\n",
    "    if (s[3] == 'Error' or s[4] == 'Error' or s[5] == 'Error' or s[6] == 'Error'):\n",
    "       users_errors = users_errors.append(s)\n",
    "       \n",
    "print('done')"
   ]
  },
  {
   "cell_type": "code",
   "execution_count": null,
   "id": "64b1697c",
   "metadata": {},
   "outputs": [],
   "source": [
    "#Counting the number of rows with errors, named 'Line with errors'\n",
    "line_errors = users_errors.groupby('Name').agg({'Start Date': 'count'}).reset_index().rename(columns = {'Start Date': 'Line with error'})"
   ]
  },
  {
   "cell_type": "code",
   "execution_count": null,
   "id": "aaacaf3c",
   "metadata": {},
   "outputs": [],
   "source": [
    "#Mapping specific errors\n",
    "users_errors['Error row'] = users_errors.index\n",
    "users_errors['Error row'] = users_errors['Error row'] + 2\n",
    "users_errors.set_index('Error row',inplace=True)\n",
    "users_errors\n",
    "users_errors[['Name','Out of Shift', 'Future Dates','Effort Calculation', 'Blank values']].to_excel('ca_tracker_errors_%s.xlsx' % date)"
   ]
  },
  {
   "cell_type": "code",
   "execution_count": null,
   "id": "9dea71fb",
   "metadata": {},
   "outputs": [],
   "source": [
    "##Merging data\n",
    "final_table = total_names.merge(line_errors, how = 'left', left_on = 'Name', right_on= 'Name').merge(\n",
    "                sent_mail_names, how = 'left', left_on = 'Name', right_on= 'Name').merge(\n",
    "                user_mails, how = 'left', left_on = 'Name', right_on= 'Name').merge(\n",
    "                last_reg, how = 'left', left_on = 'Name', right_on= 'Name')"
   ]
  },
  {
   "cell_type": "code",
   "execution_count": null,
   "id": "c5bc22c1-ff1d-4683-8035-c44f5fee1cc7",
   "metadata": {},
   "outputs": [],
   "source": [
    "final_table.to_excel(\"names_to_send_mail.xlsx\")"
   ]
  },
  {
   "cell_type": "code",
   "execution_count": null,
   "id": "cea362f6-7c18-47d5-8cad-10a26b97200e",
   "metadata": {},
   "outputs": [],
   "source": [
    "final_table"
   ]
  },
  {
   "cell_type": "code",
   "execution_count": null,
   "id": "84d0d349-1fc4-4ddc-8c2c-73e96b1ca2ce",
   "metadata": {},
   "outputs": [],
   "source": [
    "##Starting outlook server connection"
   ]
  },
  {
   "cell_type": "code",
   "execution_count": null,
   "id": "dd8dd4b0-5a02-4fbc-be7f-4e35c6cb6910",
   "metadata": {},
   "outputs": [],
   "source": [
    "#outlook server connection\n",
    "outlServer = smtplib.SMTP(host='smtp-mail.outlook.com', port=587)\n",
    "\n",
    "#Initialize encryption\n",
    "outlServer.starttls()\n",
    "\n",
    "#Login in the outlook account using the define variables username and password\n",
    "outlServer.login(myMail, password)"
   ]
  },
  {
   "cell_type": "code",
   "execution_count": null,
   "id": "457a8d92-02f0-4fd2-86e4-0940719071ad",
   "metadata": {},
   "outputs": [],
   "source": [
    "#Definition of the function to send emails\n",
    "def send_msg(To, From, Subject, Message, s_attach):\n",
    "    msg = MIMEMultipart()\n",
    "    msg['From'] = From\n",
    "    msg['To'] = To\n",
    "    msg['Subject'] = Subject\n",
    "    msg_content = MIMEText(Message, 'html', 'utf-8')\n",
    "    msg.attach(msg_content)\n",
    "\n",
    "    #attach image // the image is save in the same directory\n",
    "    with open('imagedraw.png', 'rb') as f:\n",
    "        mime = MIMEBase('image', 'png', filename='imagedraw.png')\n",
    "        mime.add_header('content-Disposition', 'attachment', filename='imagedraw.png')\n",
    "        mime.add_header('X-Attachment-ID', '0')\n",
    "        mime.add_header('ContextID', '<0>')\n",
    "        mime.set_payload(f.read())\n",
    "        encoders.encode_base64(mime)\n",
    "        msg.attach(mime)\n",
    "        \n",
    "    if s_attach == True:\n",
    "        with open('ca_tracker_errors_%s.xlsx' % date, 'rb') as e:\n",
    "            exc = MIMEBase('application', 'octet-stream', filename='ca_tracker_errors_%s.xlsx' % date)\n",
    "            exc.add_header('content-Disposition', 'attachment', filename='ca_tracker_errors_%s.xlsx' % date)\n",
    "            exc.set_payload(e.read())\n",
    "            encoders.encode_base64(exc)\n",
    "            msg.attach(exc)\n",
    "    \n",
    "    outlServer.sendmail(From, To, msg.as_string())\n",
    "\n",
    "def format_time(date):\n",
    "    format = str(date.month)+'/'+str(date.day)+'/'+str(date.year)\n",
    "    return format"
   ]
  },
  {
   "cell_type": "code",
   "execution_count": null,
   "id": "b8e8f592-a28e-4cb9-a874-d4381d1c3a11",
   "metadata": {},
   "outputs": [],
   "source": [
    "#Sending mail according with establish cases\n",
    "\n",
    "mails = pd.DataFrame()\n",
    "\n",
    "for i, m in final_table.iterrows():\n",
    "    #Have two conditions\n",
    "    if(pd.isnull(m[1]) == False and m[2] == 1):\n",
    "        #Validate if there is a mail address\n",
    "        if(pd.isnull(m[3]) == False):\n",
    "            print(m[0] + ' con 1')\n",
    "            img.generate_image(m[0], format_time(m[5]) ,int(m[1]))\n",
    "            send_msg(m[3], myMail, subjectEmail ,msg1 % m[0], True)\n",
    "    #Have only errors\n",
    "    elif (pd.isnull(m[1]) == False and m[2] != 1):\n",
    "        if(pd.isnull(m[3]) == False):\n",
    "            print(m[0] + ' con 2')\n",
    "            img.generate_image(m[0], format_time(m[5]) ,int(m[1]))\n",
    "            send_msg(m[3], myMail, subjectEmail ,msg2 % m[0], True)\n",
    "    #Not updated yesterday\n",
    "    elif (pd.isnull(m[1]) == True and m[2] == 1):\n",
    "        if(pd.isnull(m[3]) == False):\n",
    "            print(m[0] + ' con 3')\n",
    "            img.generate_image(m[0], format_time(m[5]) , 0)\n",
    "            send_msg(m[3], myMail, subjectEmail ,msg3 % m[0], False)\n",
    "    elif (pd.isnull(m[1]) == True and pd.isnull(m[2]) == True):\n",
    "        if(pd.isnull(m[3]) == False):\n",
    "            print(m[0] + ' con 4')\n",
    "            img.generate_image_congrat()\n",
    "            send_msg(m[3], myMail, subjectEmail ,msg4 % m[0], False)\n",
    "            \n",
    "print('done')"
   ]
  },
  {
   "cell_type": "code",
   "execution_count": null,
   "id": "f146dc69-4d8d-4809-a242-27539b48a021",
   "metadata": {},
   "outputs": [],
   "source": [
    "outlServer.quit()"
   ]
  },
  {
   "cell_type": "code",
   "execution_count": null,
   "id": "7607e436",
   "metadata": {},
   "outputs": [],
   "source": []
  }
 ],
 "metadata": {
  "kernelspec": {
   "display_name": "Python 3 (ipykernel)",
   "language": "python",
   "name": "python3"
  },
  "language_info": {
   "codemirror_mode": {
    "name": "ipython",
    "version": 3
   },
   "file_extension": ".py",
   "mimetype": "text/x-python",
   "name": "python",
   "nbconvert_exporter": "python",
   "pygments_lexer": "ipython3",
   "version": "3.10.2"
  }
 },
 "nbformat": 4,
 "nbformat_minor": 5
}
